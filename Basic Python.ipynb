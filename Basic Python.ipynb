{
 "cells": [
  {
   "cell_type": "code",
   "execution_count": 1,
   "id": "95ad61ff-e7ad-48e5-87af-66c7241f02fa",
   "metadata": {},
   "outputs": [],
   "source": [
    "### For Loop"
   ]
  },
  {
   "cell_type": "code",
   "execution_count": 4,
   "id": "e8e30023-acd4-4cb1-bea6-192b3f1a3a1c",
   "metadata": {},
   "outputs": [
    {
     "name": "stdout",
     "output_type": "stream",
     "text": [
      "islamabad\n"
     ]
    }
   ],
   "source": [
    "cleanest_city = \"islamabad\"\n",
    "\n",
    "pakistan_cities = ['islamabad', 'karachi', 'lahore', 'pindi']\n",
    "\n",
    "if cleanest_city == pakistan_cities[0]:\n",
    "  print(cleanest_city)\n",
    "elif cleanest_city == pakistan_cities[1]:\n",
    "  print(cleanest_city)\n",
    "elif cleanest_city == pakistan_cities[2]:\n",
    "  print(cleanest_city)\n",
    "elif cleanest_city == pakistan_cities[3]:\n",
    "  print(cleanest_city)\n",
    "elif cleanest_city == pakistan_cities[4]:\n",
    "  print(cleanest_city)\n",
    "\n"
   ]
  },
  {
   "cell_type": "code",
   "execution_count": 15,
   "id": "f1e9cedb-0f4b-4b9a-85ae-f40680103bb6",
   "metadata": {},
   "outputs": [
    {
     "name": "stdout",
     "output_type": "stream",
     "text": [
      "islamabad\n",
      "pindi is not a clean city.\n"
     ]
    }
   ],
   "source": [
    "pakistan_cities = ['islamabad', 'karachi', 'lahore', 'pindi']\n",
    "\n",
    "for city in pakistan_cities:\n",
    "    if city == cleanest_city:\n",
    "      print(city)\n",
    "else:\n",
    "    print(f'{city} is not a clean city.')\n",
    "    "
   ]
  },
  {
   "cell_type": "code",
   "execution_count": 20,
   "id": "76352aa3-85c5-4bdc-92cc-623c0e99b98b",
   "metadata": {},
   "outputs": [
    {
     "name": "stdout",
     "output_type": "stream",
     "text": [
      "ayan you are invited for the party\n",
      "bilal you are invited for the party\n",
      "khan you are invited for the party\n",
      "saad you are invited for the party\n"
     ]
    }
   ],
   "source": [
    "friend1 = \"ayan\"\n",
    "friend2 = \"bilal\" \n",
    "friend3 = \"khan\"\n",
    "friend4 = \"saad\"\n",
    "\n",
    "print(f'{friend1} you are invited for the party')\n",
    "print(f'{friend2} you are invited for the party')\n",
    "print(f'{friend3} you are invited for the party')\n",
    "print(f'{friend4} you are invited for the party')"
   ]
  },
  {
   "cell_type": "code",
   "execution_count": 28,
   "id": "46337ad0-ac42-4dcc-a5d9-0fde301c41a7",
   "metadata": {},
   "outputs": [
    {
     "name": "stdout",
     "output_type": "stream",
     "text": [
      "Muhamamd khan\n",
      "Muhamamd nawaz\n",
      "Muhamamd hussain\n",
      "Muhamamd awais\n",
      "Bilal khan\n",
      "Bilal nawaz\n",
      "Bilal hussain\n",
      "Bilal awais\n",
      "Muhammad khan\n",
      "Muhammad nawaz\n",
      "Muhammad hussain\n",
      "Muhammad awais\n",
      "Saad khan\n",
      "Saad nawaz\n",
      "Saad hussain\n",
      "Saad awais\n"
     ]
    }
   ],
   "source": [
    "frist_names = ['Muhamamd', 'Bilal', 'Muhammad', 'Saad']\n",
    "last_names = ['khan', 'nawaz', 'hussain', 'awais']\n",
    "full_names = []\n",
    "\n",
    "for frist_name in frist_names:\n",
    "    for last_name in last_names:\n",
    "        print(frist_name + ' ' + last_name)"
   ]
  },
  {
   "cell_type": "code",
   "execution_count": 34,
   "id": "5dcc622f-05a2-4dc7-9d6e-a9f15e4c36cf",
   "metadata": {},
   "outputs": [
    {
     "name": "stdout",
     "output_type": "stream",
     "text": [
      "['Muhamamd khan', 'Muhamamd nawaz', 'Muhamamd hussain', 'Muhamamd awais', 'Bilal khan', 'Bilal nawaz', 'Bilal hussain', 'Bilal awais', 'Muhammad khan', 'Muhammad nawaz', 'Muhammad hussain', 'Muhammad awais', 'Saad khan', 'Saad nawaz', 'Saad hussain', 'Saad awais']\n"
     ]
    }
   ],
   "source": [
    "frist_names = ['Muhamamd', 'Bilal', 'Muhammad', 'Saad']\n",
    "last_names = ['khan', 'nawaz', 'hussain', 'awais']\n",
    "full_names = []\n",
    "\n",
    "for frist_name in frist_names:\n",
    "    for last_name in last_names:\n",
    "        full_names.append(frist_name + ' ' + last_name)\n",
    "\n",
    "print(full_names)"
   ]
  },
  {
   "cell_type": "code",
   "execution_count": 37,
   "id": "e4e91535-1970-48a3-b92d-6d21d2fbd21c",
   "metadata": {},
   "outputs": [
    {
     "data": {
      "text/plain": [
       "4"
      ]
     },
     "execution_count": 37,
     "metadata": {},
     "output_type": "execute_result"
    }
   ],
   "source": [
    "len(frist_names)"
   ]
  },
  {
   "cell_type": "code",
   "execution_count": 51,
   "id": "0e89945d-d10f-4bca-812b-78acc8dc20fa",
   "metadata": {},
   "outputs": [
    {
     "name": "stdout",
     "output_type": "stream",
     "text": [
      "1\n",
      "4\n",
      "7\n"
     ]
    }
   ],
   "source": [
    "for i in range (1,10,3):\n",
    "    print(i)"
   ]
  },
  {
   "cell_type": "code",
   "execution_count": 48,
   "id": "04d4284e-e3ae-4aeb-89d5-8e7d1be5ca10",
   "metadata": {},
   "outputs": [
    {
     "name": "stdout",
     "output_type": "stream",
     "text": [
      "0\n",
      "1\n",
      "2\n",
      "3\n"
     ]
    }
   ],
   "source": [
    "frist_names = ['Muhamamd', 'Bilal', 'Muhammad', 'Saad']\n",
    "last_names = ['khan', 'nawaz', 'hussain', 'awais']\n",
    "full_names = []\n",
    "\n",
    "for i in range(len(frist_name)):\n",
    "    print(i)"
   ]
  },
  {
   "cell_type": "code",
   "execution_count": 50,
   "id": "e148561e-96c5-45af-b91f-4247b75f9780",
   "metadata": {},
   "outputs": [
    {
     "name": "stdout",
     "output_type": "stream",
     "text": [
      "umair\n",
      "['umair', 'sameer']\n",
      "noman\n",
      "['umair', 'noman']\n",
      "['sameer', 'noman']\n"
     ]
    }
   ],
   "source": [
    "#                 0           1         2        3         4\n",
    "first_names = ['Muhamamd', 'umair', 'sameer', 'noman', 'Mushtaq']\n",
    "#                             -4       -3         -2        -1\n",
    "print(first_names[1])\n",
    "print(first_names[1:3])\n",
    "print(first_names[3])\n",
    "print(first_names[1:5:2])\n",
    "print(first_names[-3:-1])"
   ]
  },
  {
   "cell_type": "code",
   "execution_count": 1,
   "id": "8113f310-3034-452c-9def-37bb572d7176",
   "metadata": {},
   "outputs": [
    {
     "name": "stdout",
     "output_type": "stream",
     "text": [
      "['Muhamamd khan', 'Bilal nawaz', 'Muhammad hussain', 'Saad awais']\n"
     ]
    }
   ],
   "source": [
    "first_names = ['Muhamamd', 'Bilal', 'Muhammad', 'Saad']\n",
    "last_names = ['khan', 'nawaz', 'hussain', 'awais']\n",
    "full_names = []\n",
    "\n",
    "for i in range(len(first_names)):\n",
    "    full_names.append(first_names[i] + ' ' + last_names[i])\n",
    "\n",
    "print(full_names)\n"
   ]
  },
  {
   "cell_type": "code",
   "execution_count": 57,
   "id": "f4cbd69b-c012-40a1-a650-a9a57ff45de9",
   "metadata": {},
   "outputs": [
    {
     "name": "stdout",
     "output_type": "stream",
     "text": [
      "Muhamamd khan\n",
      "Bilal nawaz\n",
      "Muhammad hussain\n",
      "Saad awais\n"
     ]
    }
   ],
   "source": [
    "\n",
    "first_names = ['Muhamamd', 'Bilal', 'Muhammad', 'Saad']\n",
    "last_names = ['khan', 'nawaz', 'hussain', 'awais']\n",
    "\n",
    "# Full names banane aur print karne ka code\n",
    "for f, l in zip(first_names, last_names):\n",
    "    full_name = f + \" \" + l\n",
    "    print(full_name)\n"
   ]
  },
  {
   "cell_type": "code",
   "execution_count": 56,
   "id": "15c86229-b4c9-445f-8a24-ed3c6eec92a1",
   "metadata": {},
   "outputs": [
    {
     "name": "stdout",
     "output_type": "stream",
     "text": [
      "Multiplication table for [1]\n",
      "2 x 1 = 2\n",
      "2 x 2 = 4\n",
      "2 x 3 = 6\n",
      "2 x 4 = 8\n",
      "2 x 5 = 10\n",
      "2 x 6 = 12\n",
      "2 x 7 = 14\n",
      "2 x 8 = 16\n",
      "2 x 9 = 18\n",
      "2 x 10 = 20\n",
      "\n",
      "Multiplication table for [1]\n",
      "3 x 1 = 3\n",
      "3 x 2 = 6\n",
      "3 x 3 = 9\n",
      "3 x 4 = 12\n",
      "3 x 5 = 15\n",
      "3 x 6 = 18\n",
      "3 x 7 = 21\n",
      "3 x 8 = 24\n",
      "3 x 9 = 27\n",
      "3 x 10 = 30\n",
      "\n",
      "Multiplication table for [1]\n",
      "4 x 1 = 4\n",
      "4 x 2 = 8\n",
      "4 x 3 = 12\n",
      "4 x 4 = 16\n",
      "4 x 5 = 20\n",
      "4 x 6 = 24\n",
      "4 x 7 = 28\n",
      "4 x 8 = 32\n",
      "4 x 9 = 36\n",
      "4 x 10 = 40\n",
      "\n",
      "Multiplication table for [1]\n",
      "5 x 1 = 5\n",
      "5 x 2 = 10\n",
      "5 x 3 = 15\n",
      "5 x 4 = 20\n",
      "5 x 5 = 25\n",
      "5 x 6 = 30\n",
      "5 x 7 = 35\n",
      "5 x 8 = 40\n",
      "5 x 9 = 45\n",
      "5 x 10 = 50\n",
      "\n"
     ]
    }
   ],
   "source": [
    "for i in range(2, 6):\n",
    "    print(f\"Multiplication table for [1]\")\n",
    "    for j in range(1, 11):\n",
    "        print(f\"{i} x {j} = {i*j}\")\n",
    "\n",
    "    print()"
   ]
  },
  {
   "cell_type": "code",
   "execution_count": 58,
   "id": "80e5946d-4c48-49fc-92c7-110d1722363c",
   "metadata": {},
   "outputs": [],
   "source": [
    "## write a program that prints the numbers from 1 to 100 but with the following rules \n",
    "## for numbers that are divisible by 3 print \"fizz\" instead of the number\n",
    "## for numbers that are divisible by 5 print \"buzz\" instead of the number\n",
    "## for numbers that are divisible by 3 and 5 print \"fizzbuzz\" instead of the number\n",
    "#for all other numbers print the number itself"
   ]
  },
  {
   "cell_type": "code",
   "execution_count": 60,
   "id": "4aea3ddf-8b25-4c3f-84f1-76ee93fea478",
   "metadata": {},
   "outputs": [
    {
     "name": "stdout",
     "output_type": "stream",
     "text": [
      "1\n",
      "2\n",
      "fizz\n",
      "4\n",
      "buzz\n",
      "fizz\n",
      "7\n",
      "8\n",
      "fizz\n",
      "buzz\n",
      "11\n",
      "fizz\n",
      "13\n",
      "14\n",
      "fizzbuzz\n",
      "16\n",
      "17\n",
      "fizz\n",
      "19\n",
      "buzz\n",
      "fizz\n",
      "22\n",
      "23\n",
      "fizz\n",
      "buzz\n",
      "26\n",
      "fizz\n",
      "28\n",
      "29\n",
      "fizzbuzz\n",
      "31\n",
      "32\n",
      "fizz\n",
      "34\n",
      "buzz\n",
      "fizz\n",
      "37\n",
      "38\n",
      "fizz\n",
      "buzz\n",
      "41\n",
      "fizz\n",
      "43\n",
      "44\n",
      "fizzbuzz\n",
      "46\n",
      "47\n",
      "fizz\n",
      "49\n",
      "buzz\n",
      "fizz\n",
      "52\n",
      "53\n",
      "fizz\n",
      "buzz\n",
      "56\n",
      "fizz\n",
      "58\n",
      "59\n",
      "fizzbuzz\n",
      "61\n",
      "62\n",
      "fizz\n",
      "64\n",
      "buzz\n",
      "fizz\n",
      "67\n",
      "68\n",
      "fizz\n",
      "buzz\n",
      "71\n",
      "fizz\n",
      "73\n",
      "74\n",
      "fizzbuzz\n",
      "76\n",
      "77\n",
      "fizz\n",
      "79\n",
      "buzz\n",
      "fizz\n",
      "82\n",
      "83\n",
      "fizz\n",
      "buzz\n",
      "86\n",
      "fizz\n",
      "88\n",
      "89\n",
      "fizzbuzz\n",
      "91\n",
      "92\n",
      "fizz\n",
      "94\n",
      "buzz\n",
      "fizz\n",
      "97\n",
      "98\n",
      "fizz\n",
      "buzz\n"
     ]
    }
   ],
   "source": [
    "for i in range(1, 101): \n",
    "    if i % 3 == 0 and i % 5 == 0:\n",
    "        print(\"fizzbuzz\")\n",
    "    elif i % 3 == 0:\n",
    "        print(\"fizz\")\n",
    "    elif i % 5 == 0:\n",
    "        print(\"buzz\")\n",
    "    else:\n",
    "        print(i)\n"
   ]
  },
  {
   "cell_type": "code",
   "execution_count": null,
   "id": "d84d8454-bc82-4141-86b1-4e9b09f2a5d1",
   "metadata": {},
   "outputs": [],
   "source": []
  }
 ],
 "metadata": {
  "kernelspec": {
   "display_name": "Python 3 (ipykernel)",
   "language": "python",
   "name": "python3"
  },
  "language_info": {
   "codemirror_mode": {
    "name": "ipython",
    "version": 3
   },
   "file_extension": ".py",
   "mimetype": "text/x-python",
   "name": "python",
   "nbconvert_exporter": "python",
   "pygments_lexer": "ipython3",
   "version": "3.13.5"
  }
 },
 "nbformat": 4,
 "nbformat_minor": 5
}
